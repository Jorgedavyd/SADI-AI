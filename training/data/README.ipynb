{
 "cells": [
  {
   "attachments": {},
   "cell_type": "markdown",
   "metadata": {},
   "source": [
    "## Datasets\n",
    "\n",
    "1. Threat detection: [Youtube-GDD](https://github.com/UCAS-GYX/YouTube-GDD/tree/main)\n",
    "                    [Gun detection dataset](https://drive.google.com/drive/folders/179q_MNjx0ipzybhdjpQTxVu3IbI-5lWl)\n",
    "2. Person and threat detection: [Youtube-GDD](https://github.com/UCAS-GYX/YouTube-GDD/tree/main)\n",
    "3. Person detection: []()\n",
    "4. Face detection: []()\n"
   ]
  },
  {
   "cell_type": "markdown",
   "metadata": {},
   "source": [
    "## Preprocessing\n",
    "### YOUTUBE-GDD\n",
    "[Youtube-GDD](https://github.com/UCAS-GYX/YouTube-GDD/tree/main) is already preprocessed, you have to download the zip file, unzip it with the labels you want, and put them in the YOLO format on any directory you want(note that you'll have to change the path of the model's yaml file you want to train):\n",
    "\n",
    "        YOUTUBE-GDD\n",
    "\n",
    "                images  \n",
    "\n",
    "                        train\n",
    "                        val\n",
    "                        test\n",
    "\n",
    "                labels\n",
    "\n",
    "                        train\n",
    "                        val\n",
    "\n",
    "### Gun detection dataset\n",
    "\n",
    "[Gun detection dataset](https://drive.google.com/drive/folders/179q_MNjx0ipzybhdjpQTxVu3IbI-5lWl) is not preprocessed for YOLO format, so I let you the preprocessing notebook in this directory so you can do it as well.\n"
   ]
  },
  {
   "cell_type": "markdown",
   "metadata": {},
   "source": []
  },
  {
   "cell_type": "markdown",
   "metadata": {},
   "source": []
  },
  {
   "cell_type": "markdown",
   "metadata": {},
   "source": [
    "If you are locally executing, you should download the preprocessed dataset in this directory if you want to train the model on different parameters."
   ]
  }
 ],
 "metadata": {
  "language_info": {
   "name": "python"
  },
  "orig_nbformat": 4
 },
 "nbformat": 4,
 "nbformat_minor": 2
}
