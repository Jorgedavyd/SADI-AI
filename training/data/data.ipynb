{
 "cells": [
  {
   "attachments": {},
   "cell_type": "markdown",
   "metadata": {},
   "source": [
    "## Datasets\n",
    "\n",
    "1. [Youtube-GDD](https://github.com/UCAS-GYX/YouTube-GDD/tree/main)\n",
    "2. [Gun detection dataset](https://drive.google.com/drive/folders/179q_MNjx0ipzybhdjpQTxVu3IbI-5lWl)\n",
    "\n",
    "Accumulated these 2 on a dataset path and preprocessed them."
   ]
  },
  {
   "cell_type": "markdown",
   "metadata": {},
   "source": [
    "If you are locally executing, you should download the preprocessed dataset in this directory if you want to train the model on different parameters."
   ]
  }
 ],
 "metadata": {
  "language_info": {
   "name": "python"
  },
  "orig_nbformat": 4
 },
 "nbformat": 4,
 "nbformat_minor": 2
}
