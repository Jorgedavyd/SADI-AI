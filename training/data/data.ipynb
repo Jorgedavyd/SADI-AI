{
 "cells": [
  {
   "attachments": {},
   "cell_type": "markdown",
   "metadata": {},
   "source": [
    "\n",
    "[Pytorch YOLOV5](https://docs.ultralytics.com/yolov5/tutorials/pytorch_hub_model_loading/#multi-gpu-inference)\n",
    "[Human recognition](https://www.kaggle.com/datasets/constantinwerner/human-detection-dataset)\n",
    "\n",
    "## Dataset\n",
    "[Creating dataset](https://github.com/heartexlabs/labelImg)\n",
    "[Getting the data]()"
   ]
  }
 ],
 "metadata": {
  "language_info": {
   "name": "python"
  },
  "orig_nbformat": 4
 },
 "nbformat": 4,
 "nbformat_minor": 2
}
